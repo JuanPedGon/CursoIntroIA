{
 "cells": [
  {
   "cell_type": "markdown",
   "metadata": {},
   "source": [
    "# 4. Redes Neuronales Artificiales"
   ]
  },
  {
   "cell_type": "markdown",
   "metadata": {},
   "source": [
    "## 4.1 Redes neuronales de una capa"
   ]
  },
  {
   "cell_type": "markdown",
   "metadata": {},
   "source": [
    "### 4.1.1 Implementación de ADALINE en Python"
   ]
  },
  {
   "cell_type": "code",
   "execution_count": 7,
   "metadata": {
    "ExecuteTime": {
     "end_time": "2017-09-29T10:57:59.297000+02:00",
     "start_time": "2017-09-29T10:57:59.239000"
    }
   },
   "outputs": [],
   "source": [
    "from sklearn.datasets import load_digits\n",
    "import numpy as np\n",
    "\n",
    "digits = load_digits ()\n",
    "X, Y = digits .data , digits.target"
   ]
  },
  {
   "cell_type": "code",
   "execution_count": 8,
   "metadata": {
    "ExecuteTime": {
     "end_time": "2017-09-29T10:57:59.527000+02:00",
     "start_time": "2017-09-29T10:57:59.524000"
    }
   },
   "outputs": [],
   "source": [
    "from sklearn . model_selection import train_test_split\n",
    "Y[(Y==1)+(Y==2)+(Y==3)+(Y==4)+(Y==5)+(Y==6)+(Y==7)+(Y==8)+(Y==9)] = -1\n",
    "Y[Y==0] = 1\n",
    "\n",
    "X_train , X_test , Y_train , Y_test = train_test_split (X,Y, test_size =0.4)"
   ]
  },
  {
   "cell_type": "code",
   "execution_count": 9,
   "metadata": {
    "ExecuteTime": {
     "end_time": "2017-09-29T10:57:59.813000+02:00",
     "start_time": "2017-09-29T10:57:59.811000"
    }
   },
   "outputs": [],
   "source": [
    "X_train = np.concatenate ([np. ones (( X_train . shape [0],1)), X_train ], axis =1)\n",
    "X_test = np.concatenate ([np. ones (( X_test . shape [0],1)), X_test ], axis =1)"
   ]
  },
  {
   "cell_type": "code",
   "execution_count": 10,
   "metadata": {
    "ExecuteTime": {
     "end_time": "2017-09-29T10:58:00.186000+02:00",
     "start_time": "2017-09-29T10:58:00.184000"
    }
   },
   "outputs": [],
   "source": [
    "N_ITER = 30000\n",
    "lr = 0.0005\n",
    "n = float ( X_train.shape [0])\n",
    "w = np.random.randn (65)"
   ]
  },
  {
   "cell_type": "code",
   "execution_count": 30,
   "metadata": {},
   "outputs": [
    {
     "data": {
      "image/png": "[encoded data removed]",
      "text/plain": [
       "<IPython.core.display.Image object>"
      ]
     },
     "execution_count": 30,
     "metadata": {
      "image/png": {
       "width": 350
      }
     },
     "output_type": "execute_result"
    }
   ],
   "source": []
  },
  {
   "cell_type": "markdown",
   "metadata": {},
   "source": [
    "Usaremos gradient descent para optimizar los pesos de nuestra neurona ADALINE. La idea fundamental de esta técnica consiste en calcular las derivadas parciales de la función de error respecto a cada peso para modificarlos el la dirección opuesta, buscando así de forma iterativa un mínimo en la función de error. Recuerda que el valor de una derivada de una función en un punto puede interpretarse como la pendiente de la recta tangencial a la función derivada en ese punto (ver figura)."
   ]
  },
  {
   "cell_type": "code",
   "execution_count": 11,
   "metadata": {
    "ExecuteTime": {
     "end_time": "2017-09-29T10:58:04.795000+02:00",
     "start_time": "2017-09-29T10:58:04.029000"
    }
   },
   "outputs": [],
   "source": [
    "#Ejecutamos N_ITER iteraciones de gradient descent, con un learning rate (alpha) igual a la variable lr  \n",
    "\n",
    "for i in range ( N_ITER ):\n",
    "    z = np.dot( X_train , w)\n",
    "    gradient = -np.dot (( Y_train - z).ravel () , X_train )/n\n",
    "    dw = -lr*gradient\n",
    "    w = w+dw"
   ]
  },
  {
   "cell_type": "markdown",
   "metadata": {},
   "source": [
    "En cada iteración, calculamos el vector de gradientes y actualizamos los pesos de nuestra neurona en la dirección opuesta:\n",
    "\n",
    " $\\large \\Delta w = -\\alpha \\cdot \\nabla _w L = -\\alpha \\cdot \\left [\\frac{\\partial L}{\\partial w_0}, \\cdots, \\frac{\\partial L}{\\partial w_d}\\right ]$\n",
    " \n",
    " donde \n",
    " $\\large \\frac{\\partial L}{\\partial w_i} = - \\frac{1}{n} \\sum_{j=1}^n (y^{(j)}- z(x^{(j)}))~x^{(j)}_i$"
   ]
  },
  {
   "cell_type": "markdown",
   "metadata": {},
   "source": [
    " $\\large w := w + \\Delta w  $"
   ]
  },
  {
   "cell_type": "code",
   "execution_count": 12,
   "metadata": {
    "ExecuteTime": {
     "end_time": "2017-09-29T10:58:04.798000+02:00",
     "start_time": "2017-09-29T10:58:04.796000"
    }
   },
   "outputs": [
    {
     "name": "stdout",
     "output_type": "stream",
     "text": [
      "0.993045897079\n"
     ]
    }
   ],
   "source": [
    "from sklearn . metrics import accuracy_score\n",
    "\n",
    "y_ = np. sign (np.dot( X_test , w))\n",
    "print accuracy_score (Y_test , y_) "
   ]
  },
  {
   "cell_type": "markdown",
   "metadata": {},
   "source": [
    "## 4.2 Red multi-clase de una capa"
   ]
  },
  {
   "cell_type": "markdown",
   "metadata": {},
   "source": [
    "### 4.2.1 Implementación de redes multi-clase de una capa en Python"
   ]
  },
  {
   "cell_type": "code",
   "execution_count": 13,
   "metadata": {
    "ExecuteTime": {
     "end_time": "2017-09-29T10:58:05.543000+02:00",
     "start_time": "2017-09-29T10:58:05.484000"
    }
   },
   "outputs": [],
   "source": [
    "from sklearn.datasets import load_digits\n",
    "import numpy as np\n",
    "from sklearn.metrics import accuracy_score\n",
    "digits = load_digits ()\n",
    "X, Y = digits .data , digits.target"
   ]
  },
  {
   "cell_type": "code",
   "execution_count": 14,
   "metadata": {
    "ExecuteTime": {
     "end_time": "2017-09-29T10:58:05.826000+02:00",
     "start_time": "2017-09-29T10:58:05.823000"
    }
   },
   "outputs": [],
   "source": [
    "from sklearn.model_selection import train_test_split\n",
    "X_train , X_test , Y_train , Y_test = train_test_split (X,Y, test_size =0.4)\n",
    "X_train = np.concatenate ([np.ones (( X_train.shape [0],1)), X_train ], axis =1)\n",
    "X_test = np.concatenate ([np.ones (( X_test.shape [0],1)), X_test ], axis =1)"
   ]
  },
  {
   "cell_type": "code",
   "execution_count": 15,
   "metadata": {
    "ExecuteTime": {
     "end_time": "2017-09-29T10:58:06.440000+02:00",
     "start_time": "2017-09-29T10:58:06.437000"
    }
   },
   "outputs": [],
   "source": [
    "Y_train_ohe = -np.ones (( Y_train.shape [0], 10))\n",
    "Y_test_ohe = -np.ones (( Y_test.shape [0], 10))\n",
    "\n",
    "for i in range ( Y_train.shape [0]):\n",
    "    Y_train_ohe [i, Y_train [i]] = 1\n",
    "for i in range ( Y_test.shape [0]):\n",
    "    Y_test_ohe [i, Y_test [i]] = 1"
   ]
  },
  {
   "cell_type": "code",
   "execution_count": 16,
   "metadata": {
    "ExecuteTime": {
     "end_time": "2017-09-29T10:58:06.777000+02:00",
     "start_time": "2017-09-29T10:58:06.775000"
    }
   },
   "outputs": [],
   "source": [
    "N_ITER = 50000\n",
    "lr = 0.00001\n",
    "n_neurons = 10\n",
    "n = float ( X_train . shape [0])\n",
    "W = np. random . randn (65 , n_neurons )/100."
   ]
  },
  {
   "cell_type": "code",
   "execution_count": 17,
   "metadata": {
    "ExecuteTime": {
     "end_time": "2017-09-29T10:58:11.111000+02:00",
     "start_time": "2017-09-29T10:58:07.349000"
    }
   },
   "outputs": [],
   "source": [
    "for i in range ( N_ITER ):\n",
    "    z = np.dot( X_train , W)\n",
    "    gradient = -np. dot( X_train .T, ( Y_train_ohe -z))/n\n",
    "    dw = -lr* gradient\n",
    "    W = W+dw"
   ]
  },
  {
   "cell_type": "code",
   "execution_count": 18,
   "metadata": {
    "ExecuteTime": {
     "end_time": "2017-09-29T10:58:11.114000+02:00",
     "start_time": "2017-09-29T10:58:11.112000"
    }
   },
   "outputs": [],
   "source": [
    "y = np.dot( X_test , W)"
   ]
  },
  {
   "cell_type": "code",
   "execution_count": 19,
   "metadata": {
    "ExecuteTime": {
     "end_time": "2017-09-29T10:58:11.131000+02:00",
     "start_time": "2017-09-29T10:58:11.115000"
    }
   },
   "outputs": [
    {
     "data": {
      "text/plain": [
       "0.91376912378303199"
      ]
     },
     "execution_count": 19,
     "metadata": {},
     "output_type": "execute_result"
    }
   ],
   "source": [
    "from sklearn . metrics import accuracy_score\n",
    "\n",
    "y = np. argmax (y, axis =1)\n",
    "accuracy_score (y, Y_test ) "
   ]
  },
  {
   "cell_type": "markdown",
   "metadata": {},
   "source": [
    "## 4.3 El perceptrón Multicapa"
   ]
  },
  {
   "cell_type": "markdown",
   "metadata": {},
   "source": [
    "### 4.3.1 Perceptrón Multicapa en Keras"
   ]
  },
  {
   "cell_type": "code",
   "execution_count": 20,
   "metadata": {
    "ExecuteTime": {
     "end_time": "2017-09-29T10:58:54.421000+02:00",
     "start_time": "2017-09-29T10:58:12.437000"
    }
   },
   "outputs": [
    {
     "name": "stderr",
     "output_type": "stream",
     "text": [
      "Using Theano backend.\n",
      "WARNING (theano.sandbox.cuda): The cuda backend is deprecated and will be removed in the next release (v0.10).  Please switch to the gpuarray backend. You can get more information about how to switch at this URL:\n",
      " https://github.com/Theano/Theano/wiki/Converting-to-the-new-gpu-back-end%28gpuarray%29\n",
      "\n",
      "WARNING:theano.sandbox.cuda:The cuda backend is deprecated and will be removed in the next release (v0.10).  Please switch to the gpuarray backend. You can get more information about how to switch at this URL:\n",
      " https://github.com/Theano/Theano/wiki/Converting-to-the-new-gpu-back-end%28gpuarray%29\n",
      "\n",
      "Using gpu device 0: GeForce GTX 1070 (CNMeM is enabled with initial size: 80.0% of memory, cuDNN 5005)\n"
     ]
    }
   ],
   "source": [
    "from keras.models import Sequential\n",
    "from keras.layers import Dense , Activation\n",
    "from sklearn.datasets import load_digits\n",
    "\n",
    "import numpy as np\n",
    "data = load_digits()"
   ]
  },
  {
   "cell_type": "code",
   "execution_count": 22,
   "metadata": {
    "ExecuteTime": {
     "end_time": "2017-09-29T10:59:16.161000+02:00",
     "start_time": "2017-09-29T10:59:16.159000"
    }
   },
   "outputs": [],
   "source": [
    "X = data [\"data\"]\n",
    "Y = data [\"target\"]"
   ]
  },
  {
   "cell_type": "code",
   "execution_count": 23,
   "metadata": {
    "ExecuteTime": {
     "end_time": "2017-09-29T10:59:17.441000+02:00",
     "start_time": "2017-09-29T10:59:17.436000"
    }
   },
   "outputs": [],
   "source": [
    "from sklearn . model_selection import train_test_split\n",
    "\n",
    "X_train , X_test , Y_train , Y_test = train_test_split (X,Y, test_size =0.4)\n",
    "Y_train_ohe = np.zeros (( Y_train.shape [0], 10))\n",
    "Y_test_ohe = np.zeros (( Y_test.shape [0], 10))\n",
    "\n",
    "for i in range ( Y_train.shape [0]):\n",
    "    Y_train_ohe [i, Y_train [i]] = 1\n",
    "for i in range ( Y_test.shape [0]):\n",
    "    Y_test_ohe [i, Y_test [i]] = 1"
   ]
  },
  {
   "cell_type": "code",
   "execution_count": 24,
   "metadata": {
    "ExecuteTime": {
     "end_time": "2017-09-29T10:59:27.796000+02:00",
     "start_time": "2017-09-29T10:59:20.263000"
    }
   },
   "outputs": [],
   "source": [
    "model = Sequential ()\n",
    "\n",
    "model.add ( Dense (100, input_dim = 64 , activation =\"sigmoid\"))\n",
    "model.add ( Dense (10, activation = \"softmax\"))"
   ]
  },
  {
   "cell_type": "code",
   "execution_count": 25,
   "metadata": {
    "ExecuteTime": {
     "end_time": "2017-09-29T10:59:38.649000+02:00",
     "start_time": "2017-09-29T10:59:38.641000"
    }
   },
   "outputs": [],
   "source": [
    "model.compile ( loss =\"mse\",\n",
    "                optimizer =\"sgd\",\n",
    "                metrics =[\"accuracy\"])"
   ]
  },
  {
   "cell_type": "code",
   "execution_count": 26,
   "metadata": {
    "ExecuteTime": {
     "end_time": "2017-09-29T11:00:12.157000+02:00",
     "start_time": "2017-09-29T10:59:39.220000"
    }
   },
   "outputs": [
    {
     "name": "stderr",
     "output_type": "stream",
     "text": [
      "C:\\Users\\Lope\\Anaconda2\\lib\\site-packages\\keras\\models.py:848: UserWarning: The `nb_epoch` argument in `fit` has been renamed `epochs`.\n",
      "  warnings.warn('The `nb_epoch` argument in `fit` '\n"
     ]
    },
    {
     "data": {
      "text/plain": [
       "<keras.callbacks.History at 0x1c193828>"
      ]
     },
     "execution_count": 26,
     "metadata": {},
     "output_type": "execute_result"
    }
   ],
   "source": [
    "model.fit( X_train , Y_train_ohe , nb_epoch =3000 , batch_size =100, verbose=False)"
   ]
  },
  {
   "cell_type": "code",
   "execution_count": 30,
   "metadata": {
    "ExecuteTime": {
     "end_time": "2017-09-29T11:01:13.749000+02:00",
     "start_time": "2017-09-29T11:01:13.635000"
    },
    "scrolled": true
   },
   "outputs": [
    {
     "name": "stdout",
     "output_type": "stream",
     "text": [
      "_________________________________________________________________\n",
      "Layer (type)                 Output Shape              Param #   \n",
      "=================================================================\n",
      "dense_1 (Dense)              (None, 100)               6500      \n",
      "_________________________________________________________________\n",
      "dense_2 (Dense)              (None, 10)                1010      \n",
      "=================================================================\n",
      "Total params: 7,510\n",
      "Trainable params: 7,510\n",
      "Non-trainable params: 0\n",
      "_________________________________________________________________\n",
      "None\n"
     ]
    }
   ],
   "source": [
    "print model.summary ()"
   ]
  },
  {
   "cell_type": "code",
   "execution_count": 31,
   "metadata": {
    "ExecuteTime": {
     "end_time": "2017-09-29T11:01:14.044000+02:00",
     "start_time": "2017-09-29T11:01:14.037000"
    }
   },
   "outputs": [
    {
     "name": "stdout",
     "output_type": "stream",
     "text": [
      "\r",
      "100/719 [===>..........................] - ETA: 0s"
     ]
    },
    {
     "data": {
      "text/plain": [
       "[0.010894642962772342, 0.95688455849264198]"
      ]
     },
     "execution_count": 31,
     "metadata": {},
     "output_type": "execute_result"
    }
   ],
   "source": [
    "model.evaluate ( X_test , Y_test_ohe , batch_size =100) # Imprime [0.0069 , 0. 9652 ]"
   ]
  },
  {
   "cell_type": "markdown",
   "metadata": {},
   "source": [
    "## 4.4 El paradigma del aprendizaje profundo"
   ]
  },
  {
   "cell_type": "markdown",
   "metadata": {},
   "source": [
    "### 4.4.2 Redes neuronales convolucionales profundas en Keras: Reconocimiento de dígitos escritos a mano"
   ]
  },
  {
   "cell_type": "code",
   "execution_count": 32,
   "metadata": {
    "ExecuteTime": {
     "end_time": "2017-09-29T11:01:16.009000+02:00",
     "start_time": "2017-09-29T11:01:16.007000"
    }
   },
   "outputs": [],
   "source": [
    "from keras.models import Sequential\n",
    "from keras.layers import Dense , Conv2D , MaxPooling2D , Flatten\n",
    "from keras.datasets import mnist\n",
    "import keras.backend as K\n",
    "import numpy as np\n",
    "import matplotlib.pyplot as plt"
   ]
  },
  {
   "cell_type": "code",
   "execution_count": 35,
   "metadata": {
    "ExecuteTime": {
     "end_time": "2017-09-29T11:01:35.571000+02:00",
     "start_time": "2017-09-29T11:01:35.570000"
    }
   },
   "outputs": [
    {
     "name": "stdout",
     "output_type": "stream",
     "text": [
      "channels_last\n"
     ]
    }
   ],
   "source": [
    "print K.image_data_format() # Imprime \" channels_last \""
   ]
  },
  {
   "cell_type": "code",
   "execution_count": 72,
   "metadata": {
    "ExecuteTime": {
     "end_time": "2017-09-29T11:16:29.305000+02:00",
     "start_time": "2017-09-29T11:16:29.127000"
    }
   },
   "outputs": [
    {
     "name": "stdout",
     "output_type": "stream",
     "text": [
      "(60000L, 28L, 28L)\n"
     ]
    }
   ],
   "source": [
    "( X_train , Y_train ), (X_test , Y_test ) = mnist.load_data ()\n",
    "print X_train.shape # Imprime (60000 , 28 , 28)"
   ]
  },
  {
   "cell_type": "code",
   "execution_count": 43,
   "metadata": {
    "ExecuteTime": {
     "end_time": "2017-09-29T11:02:07.316000+02:00",
     "start_time": "2017-09-29T11:02:06.950000"
    }
   },
   "outputs": [
    {
     "data": {
      "image/png": "[encoded data removed]",
      "text/plain": [
       "<matplotlib.figure.Figure at 0x1ebac74e0>"
      ]
     },
     "metadata": {},
     "output_type": "display_data"
    }
   ],
   "source": [
    "%matplotlib tk\n",
    "\n",
    "f, axes = plt.subplots (1,10)\n",
    "for ax in axes.ravel():\n",
    "    ax.imshow ( X_train [np.random.randint ( 60000 )], cmap =\"gray\")\n",
    "    ax.get_xaxis ().set_visible (False)\n",
    "    ax.get_yaxis ().set_visible (False)\n",
    "    plt.show()"
   ]
  },
  {
   "cell_type": "code",
   "execution_count": 44,
   "metadata": {
    "ExecuteTime": {
     "end_time": "2017-09-29T11:02:09.783000+02:00",
     "start_time": "2017-09-29T11:02:09.781000"
    }
   },
   "outputs": [],
   "source": [
    "#X_train = X_train.reshape ( X_train . shape [0], 28 , 28 , 1)\n",
    "#X_test = X_test.reshape ( X_test . shape [0], 28 , 28 , 1)\n",
    "#\n",
    "#from keras.utils import to_categorical\n",
    "#Y_train_ohe = to_categorical ( Y_train , num_classes =10)\n",
    "#Y_test_ohe = to_categorical (Y_test , num_classes =10)"
   ]
  },
  {
   "cell_type": "code",
   "execution_count": 73,
   "metadata": {
    "ExecuteTime": {
     "end_time": "2017-09-29T11:16:31.668000+02:00",
     "start_time": "2017-09-29T11:16:31.530000"
    }
   },
   "outputs": [],
   "source": [
    "X_train = X_train.reshape ( X_train.shape [0], 28 , 28 , 1)/255.\n",
    "X_test = X_test.reshape ( X_test.shape [0], 28 , 28 , 1)/255.\n",
    "\n",
    "from keras.utils import to_categorical\n",
    "Y_train_ohe = to_categorical(Y_train, num_classes=10)\n",
    "Y_test_ohe = to_categorical(Y_test, num_classes=10)"
   ]
  },
  {
   "cell_type": "code",
   "execution_count": 74,
   "metadata": {
    "ExecuteTime": {
     "end_time": "2017-09-29T11:16:32.289000+02:00",
     "start_time": "2017-09-29T11:16:32.038000"
    }
   },
   "outputs": [],
   "source": [
    "model = Sequential ()\n",
    "\n",
    "model.add ( Conv2D (25 , kernel_size =(5,5), padding =\"same\", activation =\"relu\", input_shape = (28 ,28 ,1)))\n",
    "model.add ( MaxPooling2D ( padding =\"same\"))\n",
    "model.add ( Conv2D (25 , kernel_size =(3,3), padding =\"same\", activation =\"relu\"))\n",
    "model.add ( MaxPooling2D ( padding =\"same\"))\n",
    "model .add ( Flatten ())\n",
    "model .add ( Dense (400 , activation =\"relu\"))\n",
    "model .add ( Dense (10 , activation =\"softmax\"))"
   ]
  },
  {
   "cell_type": "code",
   "execution_count": 75,
   "metadata": {
    "ExecuteTime": {
     "end_time": "2017-09-29T11:16:32.907000+02:00",
     "start_time": "2017-09-29T11:16:32.659000"
    }
   },
   "outputs": [
    {
     "name": "stdout",
     "output_type": "stream",
     "text": [
      "_________________________________________________________________\n",
      "Layer (type)                 Output Shape              Param #   \n",
      "=================================================================\n",
      "conv2d_13 (Conv2D)           (None, 28, 28, 25)        650       \n",
      "_________________________________________________________________\n",
      "max_pooling2d_13 (MaxPooling (None, 14, 14, 25)        0         \n",
      "_________________________________________________________________\n",
      "conv2d_14 (Conv2D)           (None, 14, 14, 25)        5650      \n",
      "_________________________________________________________________\n",
      "max_pooling2d_14 (MaxPooling (None, 7, 7, 25)          0         \n",
      "_________________________________________________________________\n",
      "flatten_7 (Flatten)          (None, 1225)              0         \n",
      "_________________________________________________________________\n",
      "dense_15 (Dense)             (None, 400)               490400    \n",
      "_________________________________________________________________\n",
      "dense_16 (Dense)             (None, 10)                4010      \n",
      "=================================================================\n",
      "Total params: 500,710\n",
      "Trainable params: 500,710\n",
      "Non-trainable params: 0\n",
      "_________________________________________________________________\n",
      "None\n"
     ]
    }
   ],
   "source": [
    "model.compile( loss =\"categorical_crossentropy\", optimizer =\"RMSprop\", metrics=[\"accuracy\"])\n",
    "\n",
    "print model.summary()"
   ]
  },
  {
   "cell_type": "code",
   "execution_count": 76,
   "metadata": {
    "ExecuteTime": {
     "end_time": "2017-09-29T11:17:12.839000+02:00",
     "start_time": "2017-09-29T11:16:35.994000"
    }
   },
   "outputs": [
    {
     "name": "stdout",
     "output_type": "stream",
     "text": [
      "Epoch 1/5\n",
      "60000/60000 [==============================] - 7s - loss: 0.1655 - acc: 0.9493     \n",
      "Epoch 2/5\n",
      "60000/60000 [==============================] - 7s - loss: 0.0456 - acc: 0.9858     \n",
      "Epoch 3/5\n",
      "60000/60000 [==============================] - 7s - loss: 0.0309 - acc: 0.9907     \n",
      "Epoch 4/5\n",
      "60000/60000 [==============================] - 7s - loss: 0.0226 - acc: 0.9929     \n",
      "Epoch 5/5\n",
      "60000/60000 [==============================] - 7s - loss: 0.0181 - acc: 0.9943     \n"
     ]
    },
    {
     "data": {
      "text/plain": [
       "<keras.callbacks.History at 0xa16e52208>"
      ]
     },
     "execution_count": 76,
     "metadata": {},
     "output_type": "execute_result"
    }
   ],
   "source": [
    "model.fit ( X_train , Y_train_ohe , nb_epoch= 5 , batch_size =100)"
   ]
  },
  {
   "cell_type": "code",
   "execution_count": 77,
   "metadata": {
    "ExecuteTime": {
     "end_time": "2017-09-29T11:17:13.662000+02:00",
     "start_time": "2017-09-29T11:17:12.902000"
    }
   },
   "outputs": [
    {
     "name": "stdout",
     "output_type": "stream",
     "text": [
      " 8672/10000 [=========================>....] - ETA: 0s"
     ]
    },
    {
     "data": {
      "text/plain": [
       "[0.028409109714747683, 0.99080000000000001]"
      ]
     },
     "execution_count": 77,
     "metadata": {},
     "output_type": "execute_result"
    }
   ],
   "source": [
    "model.evaluate (X_test , Y_test_ohe ) # Imprime [0.0671 , 0. 9808 ]\n"
   ]
  },
  {
   "cell_type": "markdown",
   "metadata": {},
   "source": [
    "### 4.4.3 Redes neuronales convolucionales profundas en Keras: Reconocimiento de objetos en imágenes a color"
   ]
  },
  {
   "cell_type": "code",
   "execution_count": 78,
   "metadata": {
    "ExecuteTime": {
     "end_time": "2017-09-29T11:24:37.829000+02:00",
     "start_time": "2017-09-29T11:24:37.827000"
    },
    "collapsed": true
   },
   "outputs": [],
   "source": [
    "from keras.models import Sequential\n",
    "from keras.layers import Dense, Conv2D, MaxPooling2D, Flatten, Dropout\n",
    "from keras.datasets import cifar10\n",
    "import keras.backend as K\n",
    "\n",
    "import matplotlib.pyplot as plt\n",
    "import numpy as np"
   ]
  },
  {
   "cell_type": "code",
   "execution_count": 79,
   "metadata": {
    "ExecuteTime": {
     "end_time": "2017-09-29T11:24:46.672000+02:00",
     "start_time": "2017-09-29T11:24:45.672000"
    }
   },
   "outputs": [
    {
     "data": {
      "image/png": "[encoded data removed]",
      "text/plain": [
       "<matplotlib.figure.Figure at 0x1f66537b8>"
      ]
     },
     "metadata": {},
     "output_type": "display_data"
    }
   ],
   "source": [
    "(X_train, Y_train), (X_test, Y_test) = cifar10.load_data()\n",
    "\n",
    "f, axes = plt.subplots(1,10)\n",
    "\n",
    "for ax in axes.ravel():\n",
    "    ax.imshow(X_train[np.random.randint(50000)])\n",
    "    ax.get_xaxis().set_visible(False)\n",
    "    ax.get_yaxis().set_visible(False)\n",
    "    \n",
    "    \n",
    "plt.show()"
   ]
  },
  {
   "cell_type": "code",
   "execution_count": 85,
   "metadata": {
    "ExecuteTime": {
     "end_time": "2017-09-29T11:28:38.121000+02:00",
     "start_time": "2017-09-29T11:28:37.686000"
    },
    "collapsed": true
   },
   "outputs": [],
   "source": [
    "from keras.utils import to_categorical\n",
    "\n",
    "X_train = X_train/255.\n",
    "X_test = X_test/255.\n",
    "\n",
    "Y_train_ohe = to_categorical(Y_train, num_classes=10)\n",
    "Y_test_ohe = to_categorical(Y_test, num_classes=10)"
   ]
  },
  {
   "cell_type": "code",
   "execution_count": 91,
   "metadata": {
    "ExecuteTime": {
     "end_time": "2017-09-29T11:31:14.128000+02:00",
     "start_time": "2017-09-29T11:31:13.682000"
    },
    "collapsed": true
   },
   "outputs": [],
   "source": [
    "model = Sequential()\n",
    "\n",
    "model.add(Conv2D(32, (3, 3), padding='same', activation=\"relu\",  input_shape=(32,32,3)))\n",
    "model.add(Conv2D(32, (3, 3), activation=\"relu\"))\n",
    "model.add(MaxPooling2D(pool_size=(2, 2)))\n",
    "model.add(Dropout(0.25))\n",
    "\n",
    "model.add(Conv2D(64, (3, 3), padding='same', activation=\"relu\"))\n",
    "model.add(Conv2D(64, (3, 3), activation=\"relu\"))\n",
    "model.add(MaxPooling2D(pool_size=(2, 2)))\n",
    "model.add(Dropout(0.25))\n",
    "\n",
    "model.add(Flatten())\n",
    "model.add(Dense(512, activation=\"relu\"))\n",
    "model.add(Dropout(0.5))\n",
    "model.add(Dense(10, activation=\"softmax\"))"
   ]
  },
  {
   "cell_type": "code",
   "execution_count": 92,
   "metadata": {
    "ExecuteTime": {
     "end_time": "2017-09-29T11:31:14.199000+02:00",
     "start_time": "2017-09-29T11:31:14.191000"
    },
    "collapsed": true
   },
   "outputs": [],
   "source": [
    "model.compile( loss =\"categorical_crossentropy\", optimizer =\"RMSprop\", metrics=[\"accuracy\"])"
   ]
  },
  {
   "cell_type": "code",
   "execution_count": 93,
   "metadata": {
    "ExecuteTime": {
     "end_time": "2017-09-29T11:31:14.963000+02:00",
     "start_time": "2017-09-29T11:31:14.874000"
    },
    "collapsed": true
   },
   "outputs": [],
   "source": [
    "from keras.utils import plot_model\n",
    "plot_model(model, to_file='model.png', show_shapes=True, show_layer_names=False)"
   ]
  },
  {
   "cell_type": "code",
   "execution_count": 94,
   "metadata": {
    "ExecuteTime": {
     "end_time": "2017-09-29T11:34:07.686000+02:00",
     "start_time": "2017-09-29T11:31:15.394000"
    }
   },
   "outputs": [
    {
     "name": "stdout",
     "output_type": "stream",
     "text": [
      "Epoch 1/10\n",
      "50000/50000 [==============================] - 16s - loss: 1.7092 - acc: 0.3834    \n",
      "Epoch 2/10\n",
      "50000/50000 [==============================] - 16s - loss: 1.2517 - acc: 0.5586    \n",
      "Epoch 3/10\n",
      "50000/50000 [==============================] - 17s - loss: 1.0577 - acc: 0.6299    \n",
      "Epoch 4/10\n",
      "50000/50000 [==============================] - 16s - loss: 0.9308 - acc: 0.6763    \n",
      "Epoch 5/10\n",
      "50000/50000 [==============================] - 16s - loss: 0.8521 - acc: 0.7043    \n",
      "Epoch 6/10\n",
      "50000/50000 [==============================] - 16s - loss: 0.7920 - acc: 0.7261    \n",
      "Epoch 7/10\n",
      "50000/50000 [==============================] - 17s - loss: 0.7498 - acc: 0.7396    \n",
      "Epoch 8/10\n",
      "50000/50000 [==============================] - 16s - loss: 0.7159 - acc: 0.7556    \n",
      "Epoch 9/10\n",
      "50000/50000 [==============================] - 16s - loss: 0.6905 - acc: 0.7628    \n",
      "Epoch 10/10\n",
      "50000/50000 [==============================] - 16s - loss: 0.6693 - acc: 0.7733    \n"
     ]
    },
    {
     "data": {
      "text/plain": [
       "<keras.callbacks.History at 0x1f7feab70>"
      ]
     },
     "execution_count": 94,
     "metadata": {},
     "output_type": "execute_result"
    }
   ],
   "source": [
    "model.fit ( X_train , Y_train_ohe , nb_epoch= 10 , batch_size =100)"
   ]
  },
  {
   "cell_type": "code",
   "execution_count": 95,
   "metadata": {
    "ExecuteTime": {
     "end_time": "2017-09-29T11:35:59.838000+02:00",
     "start_time": "2017-09-29T11:35:44.400000"
    }
   },
   "outputs": [
    {
     "name": "stdout",
     "output_type": "stream",
     "text": [
      " 9888/10000 [============================>.] - ETA: 0s[0.67277756590843196, 0.77559999999999996]\n"
     ]
    }
   ],
   "source": [
    "print model.evaluate(X_test, Y_test_ohe) #Imprime [0.68015, 0.7848]"
   ]
  },
  {
   "cell_type": "code",
   "execution_count": 96,
   "metadata": {
    "ExecuteTime": {
     "end_time": "2017-09-29T11:36:12.577000+02:00",
     "start_time": "2017-09-29T11:36:03.711000"
    },
    "code_folding": []
   },
   "outputs": [
    {
     "name": "stdout",
     "output_type": "stream",
     "text": [
      "(1L, 32L, 32L, 32L)\n"
     ]
    },
    {
     "data": {
      "image/png": "[encoded data removed]",
      "text/plain": [
       "<matplotlib.figure.Figure at 0x1f99cc3c8>"
      ]
     },
     "metadata": {},
     "output_type": "display_data"
    },
    {
     "data": {
      "image/png": "[encoded data removed]",
      "text/plain": [
       "<matplotlib.figure.Figure at 0x1f9966668>"
      ]
     },
     "metadata": {},
     "output_type": "display_data"
    }
   ],
   "source": [
    "def get_activations(model, layer_idx, X_batch):\n",
    "    from keras import backend as K\n",
    "    \n",
    "    inp = model.input                                          \n",
    "    outputs = [layer.output for layer in model.layers]          \n",
    "    functors = [K.function([inp]+ [K.learning_phase()], [out]) for out in outputs]  \n",
    "\n",
    "    return functors[layer_idx]((X_batch, 1.))[0]\n",
    "\n",
    "fmaps = get_activations(model, 0, X_train[4:5])\n",
    "\n",
    "plt.imshow(X_train[4], interpolation=\"None\")\n",
    "plt.show()\n",
    "\n",
    "print fmaps.shape #Imprime (1L, 32L, 32L, 32L)\n",
    "\n",
    "f, axes = plt.subplots(1,8)\n",
    "i = 0\n",
    "\n",
    "for ax in axes.ravel():\n",
    "        \n",
    "    ax.imshow(fmaps[0,:,:,i], cmap=\"gray\", interpolation=\"None\")\n",
    "    ax.get_xaxis().set_visible(False)\n",
    "    ax.get_yaxis().set_visible(False)\n",
    "    \n",
    "    i = i+1\n",
    "    \n",
    "plt.show()"
   ]
  },
  {
   "cell_type": "code",
   "execution_count": 110,
   "metadata": {
    "ExecuteTime": {
     "end_time": "2017-09-29T11:39:50.180000+02:00",
     "start_time": "2017-09-29T11:39:49.661000"
    }
   },
   "outputs": [
    {
     "data": {
      "image/png": "[encoded data removed]",
      "text/plain": [
       "<matplotlib.figure.Figure at 0xa13433278>"
      ]
     },
     "metadata": {},
     "output_type": "display_data"
    }
   ],
   "source": [
    "f, axes = plt.subplots(1,10)\n",
    "\n",
    "for ax in axes.ravel():\n",
    "    ax.imshow(model.layers[0].get_weights()[0][:,:,:, np.random.randint(32)])\n",
    "    ax.get_xaxis().set_visible(False)\n",
    "    ax.get_yaxis().set_visible(False)\n",
    "    \n",
    "    \n",
    "plt.show()"
   ]
  },
  {
   "cell_type": "code",
   "execution_count": null,
   "metadata": {
    "collapsed": true
   },
   "outputs": [],
   "source": []
  }
 ],
 "metadata": {
  "kernelspec": {
   "display_name": "Python 2",
   "language": "python",
   "name": "python2"
  },
  "language_info": {
   "codemirror_mode": {
    "name": "ipython",
    "version": 2
   },
   "file_extension": ".py",
   "mimetype": "text/x-python",
   "name": "python",
   "nbconvert_exporter": "python",
   "pygments_lexer": "ipython2",
   "version": "2.7.11"
  }
 },
 "nbformat": 4,
 "nbformat_minor": 1
}

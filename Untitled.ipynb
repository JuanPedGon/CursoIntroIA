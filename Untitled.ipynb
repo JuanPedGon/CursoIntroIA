{
 "cells": [
  {
   "cell_type": "markdown",
   "metadata": {},
   "source": [
    "## Capitulo 1"
   ]
  },
  {
   "cell_type": "code",
   "execution_count": 14,
   "metadata": {
    "collapsed": false
   },
   "outputs": [
    {
     "name": "stdout",
     "output_type": "stream",
     "text": [
      "3.5\n",
      "-0.5\n",
      "3\n",
      "1\n",
      "3.0\n",
      "4\n"
     ]
    }
   ],
   "source": [
    "import numpy as np\n",
    "\n",
    "x = 1.5\n",
    "y = 2\n",
    "z = 7\n",
    "\n",
    "print x+y  # suma: 3.5\n",
    "print x-y  # suma: -0.5\n",
    "print z/y  # división : 3\n",
    "print z%y  # resto division entera: 1\n",
    "\n",
    "\n",
    "print x*y  # multiplicación: 3 \n",
    "print y**2 # exponenciación: 4"
   ]
  },
  {
   "cell_type": "code",
   "execution_count": 15,
   "metadata": {
    "collapsed": false
   },
   "outputs": [
    {
     "name": "stdout",
     "output_type": "stream",
     "text": [
      "1\n",
      "cuatro\n",
      "5.1\n",
      "[1, 2, 'tres']\n",
      "[2, 'tres', 'cuatro', 5.1]\n"
     ]
    }
   ],
   "source": [
    "lista = [1,2,\"tres\", \"cuatro\", 5.1]\n",
    "\n",
    "print lista[0] #Imprime 1\n",
    "print lista[3] #Imprime cuatro\n",
    "print lista[-1] #Imprime 5.1\n",
    "print lista[0:3] #Imprime [1, 2, 'tres']\n",
    "print lista[1:] #Imprime [2, 'tres', 'cuatro', 5.1]"
   ]
  },
  {
   "cell_type": "code",
   "execution_count": 16,
   "metadata": {
    "collapsed": false
   },
   "outputs": [
    {
     "name": "stdout",
     "output_type": "stream",
     "text": [
      "x es menor que 3\n"
     ]
    }
   ],
   "source": [
    "x = 2.3\n",
    "\n",
    "if x<3:\n",
    "    print \"x es menor que 3\"\n",
    "else:\n",
    "    print \"x es mayor que o igual que 3\""
   ]
  },
  {
   "cell_type": "code",
   "execution_count": 17,
   "metadata": {
    "collapsed": false
   },
   "outputs": [
    {
     "name": "stdout",
     "output_type": "stream",
     "text": [
      "Pedir otra cosa\n"
     ]
    }
   ],
   "source": [
    "platosEnCarta = [\"pizza barbacoa\", \"macarrones con tomate\", \"helados\"]\n",
    "precioPizza = 12.5\n",
    "\n",
    "if \"pizza hawaiana\" in platosEnCarta and precioPizza < 11 :\n",
    "    print \"Pedir pizza hawaiana\"\n",
    "else:\n",
    "    print \"Pedir otra cosa\""
   ]
  },
  {
   "cell_type": "code",
   "execution_count": 18,
   "metadata": {
    "collapsed": false
   },
   "outputs": [
    {
     "name": "stdout",
     "output_type": "stream",
     "text": [
      "Salta!\n",
      "Salta!\n",
      "Salta!\n",
      "Salta!\n",
      "Salta!\n"
     ]
    }
   ],
   "source": [
    "saltos = 0\n",
    "\n",
    "while saltos < 5:\n",
    "    saltos = saltos + 1\n",
    "    print \"Salta!\""
   ]
  },
  {
   "cell_type": "code",
   "execution_count": 19,
   "metadata": {
    "collapsed": false
   },
   "outputs": [
    {
     "name": "stdout",
     "output_type": "stream",
     "text": [
      "Hoy es Lunes\n",
      "Hoy es Martes\n",
      "Hoy es Miercoles\n",
      "Hoy es Jueves\n",
      "Hoy es Viernes\n"
     ]
    }
   ],
   "source": [
    "diasLaborables = [\"Lunes\", \"Martes\", \"Miercoles\", \"Jueves\", \"Viernes\"]\n",
    "\n",
    "for dia in diasLaborables:\n",
    "    print \"Hoy es \"+dia"
   ]
  },
  {
   "cell_type": "code",
   "execution_count": 20,
   "metadata": {
    "collapsed": false
   },
   "outputs": [
    {
     "name": "stdout",
     "output_type": "stream",
     "text": [
      "Hoy es Lunes, que esta en la posicion 0\n",
      "Hoy es Martes, que esta en la posicion 1\n",
      "Hoy es Miercoles, que esta en la posicion 2\n",
      "Hoy es Jueves, que esta en la posicion 3\n",
      "Hoy es Viernes, que esta en la posicion 4\n"
     ]
    }
   ],
   "source": [
    "diasLaborables = [\"Lunes\", \"Martes\", \"Miercoles\", \"Jueves\", \"Viernes\"]\n",
    "\n",
    "for i in range(len(diasLaborables)):\n",
    "    print \"Hoy es \"+diasLaborables[i]+\", que esta en la posicion \"+str(i)"
   ]
  },
  {
   "cell_type": "code",
   "execution_count": 21,
   "metadata": {
    "collapsed": false
   },
   "outputs": [
    {
     "name": "stdout",
     "output_type": "stream",
     "text": [
      "13\n"
     ]
    }
   ],
   "source": [
    "def sumarCuadrados(x,y):\n",
    "    x2 = x**2\n",
    "    y2 = y**2\n",
    "    return x2+y2\n",
    "\n",
    "resultado = sumarCuadrados(2,3)\n",
    "print resultado"
   ]
  },
  {
   "cell_type": "code",
   "execution_count": 22,
   "metadata": {
    "collapsed": false
   },
   "outputs": [
    {
     "name": "stdout",
     "output_type": "stream",
     "text": [
      "Hola Anna!\n",
      "Hello Anna!\n"
     ]
    }
   ],
   "source": [
    "def saludo(nombre, idioma=\"Spanish\"):\n",
    "    if idioma == \"Spanish\":\n",
    "        print \"Hola \"+nombre+\"!\"\n",
    "    else:\n",
    "        print \"Hello \"+nombre+\"!\"\n",
    "\n",
    "saludo(\"Anna\")\n",
    "saludo(\"Anna\", idioma=\"English\")"
   ]
  },
  {
   "cell_type": "code",
   "execution_count": 23,
   "metadata": {
    "collapsed": false
   },
   "outputs": [
    {
     "name": "stdout",
     "output_type": "stream",
     "text": [
      "[[ 0.  0.  0.]\n",
      " [ 0.  0.  0.]]\n",
      "[[ 3.1416  3.1416  3.1416]\n",
      " [ 3.1416  3.1416  3.1416]]\n"
     ]
    }
   ],
   "source": [
    "X = np.zeros((2,3))\n",
    "\n",
    "print X\n",
    "\n",
    "X.fill(3.1416)\n",
    "\n",
    "print X"
   ]
  },
  {
   "cell_type": "code",
   "execution_count": 24,
   "metadata": {
    "collapsed": false
   },
   "outputs": [
    {
     "name": "stdout",
     "output_type": "stream",
     "text": [
      "[[2 6]\n",
      " [5 6]]\n",
      "[[1 5]\n",
      " [6 8]]\n",
      "[[ 1 25]\n",
      " [ 9 16]]\n",
      "[[ 0.4  2. ]\n",
      " [ 1.2  1.6]]\n",
      "[[ 1.          2.23606798]\n",
      " [ 1.73205081  2.        ]]\n"
     ]
    }
   ],
   "source": [
    "X = np.asarray([[1,5],[3,4]])\n",
    "Y = np.asarray([[1,1],[2,2]])\n",
    "\n",
    "print X+Y    #Imprime [[2, 6], [5, 6]]\n",
    "print X*Y    #Imprime [[1, 5], [6, 8]]\n",
    "print X**2   #Imprime [[1, 25], [9, 16]]\n",
    "print X/2.5  #Imprime [[0.4, 2.], [1.2, 1.6]]\n",
    "print np.sqrt(X)"
   ]
  },
  {
   "cell_type": "code",
   "execution_count": 25,
   "metadata": {
    "collapsed": false
   },
   "outputs": [
    {
     "name": "stdout",
     "output_type": "stream",
     "text": [
      "[[ 8 13]\n",
      " [ 9  6]]\n",
      "[[2 0 3]\n",
      " [1 2 1]]\n"
     ]
    }
   ],
   "source": [
    "X = np.asarray([[1,5,2],[3,1,1]])\n",
    "Y = np.asarray([[2,1],[0,2], [3,1]])\n",
    "\n",
    "print np.dot(X,Y) #Imprime  [[8,13],[9,6]]\n",
    "print Y.T         #Imprime [[2, 0, 3], [1, 2, 1]]\n"
   ]
  },
  {
   "cell_type": "code",
   "execution_count": 27,
   "metadata": {
    "collapsed": false
   },
   "outputs": [
    {
     "name": "stdout",
     "output_type": "stream",
     "text": [
      "[[ 1.  0.]\n",
      " [ 0.  1.]]\n"
     ]
    }
   ],
   "source": [
    "from numpy.linalg import inv\n",
    "\n",
    "X = np.asarray([[1,3],[2,4]])\n",
    "Xinv = inv(X)\n",
    "\n",
    "print np.dot(X,Xinv)"
   ]
  },
  {
   "cell_type": "code",
   "execution_count": 28,
   "metadata": {
    "collapsed": false
   },
   "outputs": [
    {
     "data": {
      "image/png": "[encoded data removed]",
      "text/plain": [
       "<matplotlib.figure.Figure at 0x6a430f0>"
      ]
     },
     "metadata": {},
     "output_type": "display_data"
    }
   ],
   "source": [
    "import numpy as np\n",
    "import matplotlib.pyplot as plt\n",
    "\n",
    "X = np.random.normal(size=(2,100))\n",
    "\n",
    "plt.scatter(X[0],X[1])\n",
    "plt.show()"
   ]
  },
  {
   "cell_type": "markdown",
   "metadata": {},
   "source": [
    "## Capitulo 2"
   ]
  },
  {
   "cell_type": "code",
   "execution_count": null,
   "metadata": {
    "collapsed": true
   },
   "outputs": [],
   "source": []
  }
 ],
 "metadata": {
  "kernelspec": {
   "display_name": "Python 2",
   "language": "python",
   "name": "python2"
  },
  "language_info": {
   "codemirror_mode": {
    "name": "ipython",
    "version": 2
   },
   "file_extension": ".py",
   "mimetype": "text/x-python",
   "name": "python",
   "nbconvert_exporter": "python",
   "pygments_lexer": "ipython2",
   "version": "2.7.12"
  }
 },
 "nbformat": 4,
 "nbformat_minor": 2
}
